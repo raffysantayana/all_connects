{
 "cells": [
  {
   "cell_type": "code",
   "execution_count": 1,
   "metadata": {
    "ExecuteTime": {
     "end_time": "2020-04-25T01:37:18.459203Z",
     "start_time": "2020-04-25T01:37:13.061698Z"
    }
   },
   "outputs": [
    {
     "name": "stdout",
     "output_type": "stream",
     "text": [
      "pygame 1.9.6\n",
      "Hello from the pygame community. https://www.pygame.org/contribute.html\n"
     ]
    }
   ],
   "source": [
    "import pygame,sys\n",
    "pygame.init()\n",
    "pygame.font.init()\n",
    "myfont = pygame.font.SysFont('Comic Sans MS', 30)\n",
    "textsurface = myfont.render('test', False, (0,0,0))\n",
    "\n",
    "# create a screen:\n",
    "screen = pygame.display.set_mode((800,800))\n",
    "done = False\n",
    "\n",
    "screen.blit(textsurface, (0,0))\n",
    "\n",
    "\n",
    "# (red,green,blue)\n",
    "c = (0,150,255)\n",
    "\n",
    "# never ending loop now:\n",
    "# while done == False:\n",
    "#     for event in pygame.event.get():\n",
    "#         if event.type == pygame.QUIT:\n",
    "#             done = True\n",
    "#     for x in range(0,800,200):\n",
    "        \n",
    "#         pygame.draw.line(screen,c,(1,x),(800,x), 2)\n",
    "#         pygame.draw.line(screen,c,(x,1),(x,800), 2)\n",
    "#         pygame.display.update()\n"
   ]
  },
  {
   "cell_type": "code",
   "execution_count": null,
   "metadata": {
    "ExecuteTime": {
     "start_time": "2020-04-25T01:40:39.857Z"
    }
   },
   "outputs": [
    {
     "name": "stdout",
     "output_type": "stream",
     "text": [
      "pygame 1.9.6\n",
      "Hello from the pygame community. https://www.pygame.org/contribute.html\n"
     ]
    }
   ],
   "source": [
    "import pygame\n",
    "import pygame.freetype  # Import the freetype module.\n",
    "\n",
    "\n",
    "pygame.init()\n",
    "screen = pygame.display.set_mode((800, 600))\n",
    "GAME_FONT = pygame.freetype.SysFont('Comic Sans MS', 30)\n",
    "running =  True\n",
    "\n",
    "while running:\n",
    "    for event in pygame.event.get():\n",
    "        if event.type == pygame.QUIT:\n",
    "            running = False\n",
    "\n",
    "    screen.fill((255,255,255))\n",
    "    # You can use `render` and then blit the text surface ...\n",
    "    text_surface, rect = GAME_FONT.render(\"Hello World!\", (0, 0, 0))\n",
    "    screen.blit(text_surface, (40, 250))\n",
    "    # or just `render_to` the target surface.\n",
    "    GAME_FONT.render_to(screen, (40, 350), \"Hello World!\", (0, 0, 0))\n",
    "\n",
    "    pygame.display.flip()\n",
    "\n",
    "pygame.quit()"
   ]
  }
 ],
 "metadata": {
  "kernelspec": {
   "display_name": "Python 3",
   "language": "python",
   "name": "python3"
  },
  "language_info": {
   "codemirror_mode": {
    "name": "ipython",
    "version": 3
   },
   "file_extension": ".py",
   "mimetype": "text/x-python",
   "name": "python",
   "nbconvert_exporter": "python",
   "pygments_lexer": "ipython3",
   "version": "3.7.5"
  },
  "toc": {
   "base_numbering": 1,
   "nav_menu": {},
   "number_sections": true,
   "sideBar": true,
   "skip_h1_title": false,
   "title_cell": "Table of Contents",
   "title_sidebar": "Contents",
   "toc_cell": false,
   "toc_position": {},
   "toc_section_display": true,
   "toc_window_display": false
  },
  "varInspector": {
   "cols": {
    "lenName": 16,
    "lenType": 16,
    "lenVar": 40
   },
   "kernels_config": {
    "python": {
     "delete_cmd_postfix": "",
     "delete_cmd_prefix": "del ",
     "library": "var_list.py",
     "varRefreshCmd": "print(var_dic_list())"
    },
    "r": {
     "delete_cmd_postfix": ") ",
     "delete_cmd_prefix": "rm(",
     "library": "var_list.r",
     "varRefreshCmd": "cat(var_dic_list()) "
    }
   },
   "types_to_exclude": [
    "module",
    "function",
    "builtin_function_or_method",
    "instance",
    "_Feature"
   ],
   "window_display": false
  }
 },
 "nbformat": 4,
 "nbformat_minor": 2
}
