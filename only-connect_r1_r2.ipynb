{
 "cells": [
  {
   "cell_type": "markdown",
   "metadata": {},
   "source": [
    "# Only Connect\n",
    "__A Game of Trivia<br>\n",
    "And How Nonsensical Groupings Connect with Each Other__"
   ]
  },
  {
   "cell_type": "code",
   "execution_count": 1,
   "metadata": {
    "ExecuteTime": {
     "end_time": "2020-04-26T21:49:15.721402Z",
     "start_time": "2020-04-26T21:49:15.713666Z"
    }
   },
   "outputs": [],
   "source": [
    "import back\n",
    "from time import sleep"
   ]
  },
  {
   "cell_type": "code",
   "execution_count": null,
   "metadata": {
    "ExecuteTime": {
     "end_time": "2020-04-25T22:06:52.772778Z",
     "start_time": "2020-04-25T22:06:52.767246Z"
    }
   },
   "outputs": [],
   "source": [
    "# Genie, Erin, and EJ\n",
    "Philly_Gurlz = back.Team(\"Philly Gurlz\")\n",
    "\n",
    "# Trixie, Wes, and Emmy\n",
    "Nasty_Hoes = back.Team(\"Nasty Hoes\")\n",
    "\n",
    "# Justin and Jack\n",
    "Attic_Rats = back.Team(\"Attic Rats\")"
   ]
  },
  {
   "cell_type": "code",
   "execution_count": 2,
   "metadata": {
    "ExecuteTime": {
     "end_time": "2020-04-26T21:49:19.380201Z",
     "start_time": "2020-04-26T21:49:19.365245Z"
    }
   },
   "outputs": [],
   "source": [
    "Peter = back.Team(\"Peter\")\n",
    "Fausto = back.Team(\"Fausto\")"
   ]
  },
  {
   "cell_type": "code",
   "execution_count": 3,
   "metadata": {
    "ExecuteTime": {
     "end_time": "2020-04-26T21:49:37.670877Z",
     "start_time": "2020-04-26T21:49:37.663800Z"
    }
   },
   "outputs": [],
   "source": [
    "Peter.add_pts(2)\n",
    "Fausto.add_pts(3)"
   ]
  },
  {
   "cell_type": "markdown",
   "metadata": {},
   "source": [
    "## Round 1: Connect 4\n",
    "At this round, there are six questions.\n",
    "\n",
    "For each question, you can look at one, two, three, or four hints.\n",
    "\n",
    "You have __two minutes__ to tell Raffy what connects them together. However, each team is only allowed to submit __one response__! So be sure that everyone is confident in the answer.\n",
    "\n",
    "At the start of each question, Raffy will only show you _one_ hint."
   ]
  },
  {
   "cell_type": "code",
   "execution_count": null,
   "metadata": {
    "ExecuteTime": {
     "end_time": "2020-04-26T18:52:49.425792Z",
     "start_time": "2020-04-26T18:52:49.406622Z"
    }
   },
   "outputs": [],
   "source": [
    "back.example_r1_grid[0]"
   ]
  },
  {
   "cell_type": "markdown",
   "metadata": {},
   "source": [
    "If you get the connection with only looking at this one hint, you get __5 points__!\n",
    "\n",
    "By saying \"next\", you can look at the upcoming hint."
   ]
  },
  {
   "cell_type": "code",
   "execution_count": null,
   "metadata": {
    "ExecuteTime": {
     "end_time": "2020-04-26T18:53:14.613143Z",
     "start_time": "2020-04-26T18:53:14.597172Z"
    }
   },
   "outputs": [],
   "source": [
    "back.example_r1_grid[0:2]"
   ]
  },
  {
   "cell_type": "markdown",
   "metadata": {},
   "source": [
    "If you get the connection by only looking at two hints, you get __3 points__!"
   ]
  },
  {
   "cell_type": "code",
   "execution_count": null,
   "metadata": {
    "ExecuteTime": {
     "end_time": "2020-04-25T22:11:04.742829Z",
     "start_time": "2020-04-25T22:11:04.729776Z"
    }
   },
   "outputs": [],
   "source": [
    "back.example_r1_grid[0:3]"
   ]
  },
  {
   "cell_type": "markdown",
   "metadata": {},
   "source": [
    "If you get the connection by only looking at three hints, you get __2 points__!"
   ]
  },
  {
   "cell_type": "code",
   "execution_count": null,
   "metadata": {
    "ExecuteTime": {
     "end_time": "2020-04-25T22:11:09.902157Z",
     "start_time": "2020-04-25T22:11:09.892638Z"
    }
   },
   "outputs": [],
   "source": [
    "back.example_r1_grid"
   ]
  },
  {
   "cell_type": "markdown",
   "metadata": {},
   "source": [
    "If you get the connection by looking at all four hints, you get __1 point__!\n",
    "\n",
    "__BE WARNED__: If you fail to get the connection, then you will not get any points. Raffy will then reveal all four hints to the opposing team and offer them to get the connection to steal __1 point__."
   ]
  },
  {
   "cell_type": "markdown",
   "metadata": {},
   "source": [
    "### Turn 1: First Team Determined By Google Die Roll!\n",
    "Pick a question number:\n",
    "- 0\n",
    "- 1\n",
    "- 2\n",
    "- 3\n",
    "- 4\n",
    "- 5"
   ]
  },
  {
   "cell_type": "code",
   "execution_count": 4,
   "metadata": {
    "ExecuteTime": {
     "end_time": "2020-04-26T18:57:31.381543Z",
     "start_time": "2020-04-26T18:57:31.376931Z"
    },
    "scrolled": true
   },
   "outputs": [],
   "source": [
    "r1_grid = back.R1_Grid(back.r1_qs)\n",
    "# r1_grid.start_question(4)"
   ]
  },
  {
   "cell_type": "code",
   "execution_count": null,
   "metadata": {
    "ExecuteTime": {
     "end_time": "2020-04-26T18:55:53.240368Z",
     "start_time": "2020-04-26T18:55:53.223872Z"
    }
   },
   "outputs": [],
   "source": [
    "r1_grid.questions[4].hints"
   ]
  },
  {
   "cell_type": "code",
   "execution_count": null,
   "metadata": {
    "ExecuteTime": {
     "end_time": "2020-04-26T18:56:42.683907Z",
     "start_time": "2020-04-26T18:56:42.671382Z"
    }
   },
   "outputs": [],
   "source": [
    "r1_grid.questions[4].answer"
   ]
  },
  {
   "cell_type": "markdown",
   "metadata": {},
   "source": [
    "Did the team answer the question correctly?"
   ]
  },
  {
   "cell_type": "code",
   "execution_count": null,
   "metadata": {
    "ExecuteTime": {
     "end_time": "2020-04-25T20:21:58.200831Z",
     "start_time": "2020-04-25T20:21:58.193110Z"
    }
   },
   "outputs": [],
   "source": [
    "# .addpts(number)\n",
    ".steal()\n",
    "\n",
    "Philly_Gurlz.get_score()\n",
    ".get_score()\n",
    ".get_score()"
   ]
  },
  {
   "cell_type": "markdown",
   "metadata": {},
   "source": [
    "### Turn 2\n",
    "Pick a question number:\n",
    "- 0\n",
    "- 1\n",
    "- 2\n",
    "- 3\n",
    "- 4\n",
    "- 5"
   ]
  },
  {
   "cell_type": "code",
   "execution_count": 5,
   "metadata": {
    "ExecuteTime": {
     "end_time": "2020-04-26T18:58:53.601856Z",
     "start_time": "2020-04-26T18:57:34.233175Z"
    }
   },
   "outputs": [
    {
     "name": "stdout",
     "output_type": "stream",
     "text": [
      "['Pretzels']\n",
      "\n",
      "['Pretzels', 'Double-entry bookkeeping']\n",
      "\n",
      "['Pretzels', 'Double-entry bookkeeping', 'Kung Fu']\n",
      "\n",
      "['Pretzels', 'Double-entry bookkeeping', 'Kung Fu', 'Genetics']\n",
      " \n",
      "DONE\n"
     ]
    }
   ],
   "source": [
    "r1_grid.start_question(2)"
   ]
  },
  {
   "cell_type": "code",
   "execution_count": 6,
   "metadata": {
    "ExecuteTime": {
     "end_time": "2020-04-26T18:59:05.021405Z",
     "start_time": "2020-04-26T18:59:04.987965Z"
    }
   },
   "outputs": [
    {
     "data": {
      "text/plain": [
       "['Pretzels', 'Double-entry bookkeeping', 'Kung Fu', 'Genetics']"
      ]
     },
     "execution_count": 6,
     "metadata": {},
     "output_type": "execute_result"
    }
   ],
   "source": [
    "r1_grid.questions[2].hints"
   ]
  },
  {
   "cell_type": "code",
   "execution_count": 7,
   "metadata": {
    "ExecuteTime": {
     "end_time": "2020-04-26T19:00:03.862629Z",
     "start_time": "2020-04-26T19:00:03.843553Z"
    }
   },
   "outputs": [
    {
     "data": {
      "text/plain": [
       "'Developed by monks'"
      ]
     },
     "execution_count": 7,
     "metadata": {},
     "output_type": "execute_result"
    }
   ],
   "source": [
    "r1_grid.questions[2].answer"
   ]
  },
  {
   "cell_type": "markdown",
   "metadata": {},
   "source": [
    "Did the team answer the question correctly?"
   ]
  },
  {
   "cell_type": "code",
   "execution_count": null,
   "metadata": {
    "ExecuteTime": {
     "end_time": "2020-04-25T22:19:52.756423Z",
     "start_time": "2020-04-25T22:19:52.752790Z"
    }
   },
   "outputs": [],
   "source": [
    "# .addpts(number)\n",
    "Nasty_Hoes.steal()\n",
    "\n",
    "# Philly_Gurlz.get_score()\n",
    "# .get_score()\n",
    "# .get_score()"
   ]
  },
  {
   "cell_type": "code",
   "execution_count": null,
   "metadata": {
    "ExecuteTime": {
     "end_time": "2020-04-25T22:19:59.392656Z",
     "start_time": "2020-04-25T22:19:59.371407Z"
    }
   },
   "outputs": [],
   "source": [
    "Nasty_Hoes.score"
   ]
  },
  {
   "cell_type": "markdown",
   "metadata": {},
   "source": [
    "### Turn 3\n",
    "Pick a question number:\n",
    "- 0\n",
    "- 1\n",
    "- 2\n",
    "- 3\n",
    "- 4\n",
    "- 5"
   ]
  },
  {
   "cell_type": "code",
   "execution_count": 8,
   "metadata": {
    "ExecuteTime": {
     "end_time": "2020-04-26T19:01:44.026980Z",
     "start_time": "2020-04-26T19:00:54.604217Z"
    }
   },
   "outputs": [
    {
     "name": "stdout",
     "output_type": "stream",
     "text": [
      "['Gun']\n",
      "\n",
      "['Gun', 'Gold']\n",
      "\n",
      "['Gun', 'Gold', 'Black']\n",
      "\n",
      "['Gun', 'Gold', 'Black', 'Lock']\n",
      " \n",
      "DONE\n"
     ]
    }
   ],
   "source": [
    "r1_grid.start_question(0)"
   ]
  },
  {
   "cell_type": "code",
   "execution_count": null,
   "metadata": {
    "ExecuteTime": {
     "end_time": "2020-04-25T22:22:04.890352Z",
     "start_time": "2020-04-25T22:22:04.872680Z"
    }
   },
   "outputs": [],
   "source": [
    "r1_grid.questions[0].hints"
   ]
  },
  {
   "cell_type": "code",
   "execution_count": 9,
   "metadata": {
    "ExecuteTime": {
     "end_time": "2020-04-26T19:02:52.746231Z",
     "start_time": "2020-04-26T19:02:52.729123Z"
    }
   },
   "outputs": [
    {
     "data": {
      "text/plain": [
       "'Professions ending with \"smith\"'"
      ]
     },
     "execution_count": 9,
     "metadata": {},
     "output_type": "execute_result"
    }
   ],
   "source": [
    "r1_grid.questions[0].answer"
   ]
  },
  {
   "cell_type": "markdown",
   "metadata": {},
   "source": [
    "Did the team answer the question correctly?"
   ]
  },
  {
   "cell_type": "code",
   "execution_count": null,
   "metadata": {},
   "outputs": [],
   "source": [
    "# .addpts(number)\n",
    ".steal()\n",
    "\n",
    "Philly_Gurlz.get_score()\n",
    ".get_score()\n",
    ".get_score()"
   ]
  },
  {
   "cell_type": "markdown",
   "metadata": {},
   "source": [
    "### Turn 4\n",
    "Pick a question number:\n",
    "- 0\n",
    "- 1\n",
    "- 2\n",
    "- 3\n",
    "- 4\n",
    "- 5"
   ]
  },
  {
   "cell_type": "code",
   "execution_count": 10,
   "metadata": {
    "ExecuteTime": {
     "end_time": "2020-04-26T19:05:49.674492Z",
     "start_time": "2020-04-26T19:03:35.483049Z"
    }
   },
   "outputs": [
    {
     "name": "stdout",
     "output_type": "stream",
     "text": [
      "['Hammer and feather']\n",
      "\n",
      "['Hammer and feather', 'Six US flags']\n",
      "\n",
      "['Hammer and feather', 'Six US flags', \"Eugene Shoemaker's ashes\"]\n",
      "\n",
      "['Hammer and feather', 'Six US flags', \"Eugene Shoemaker's ashes\", 'Two golf balls']\n",
      "Out of time\n",
      " \n",
      "DONE\n"
     ]
    }
   ],
   "source": [
    "r1_grid.start_question(5)"
   ]
  },
  {
   "cell_type": "code",
   "execution_count": null,
   "metadata": {
    "ExecuteTime": {
     "end_time": "2020-04-25T00:43:07.708633Z",
     "start_time": "2020-04-25T00:43:07.695411Z"
    }
   },
   "outputs": [],
   "source": [
    "r1_grid.questions[5].hints"
   ]
  },
  {
   "cell_type": "code",
   "execution_count": 11,
   "metadata": {
    "ExecuteTime": {
     "end_time": "2020-04-26T19:06:53.578577Z",
     "start_time": "2020-04-26T19:06:53.555529Z"
    }
   },
   "outputs": [
    {
     "data": {
      "text/plain": [
       "'Things left behind on the moon'"
      ]
     },
     "execution_count": 11,
     "metadata": {},
     "output_type": "execute_result"
    }
   ],
   "source": [
    "r1_grid.questions[5].answer"
   ]
  },
  {
   "cell_type": "markdown",
   "metadata": {},
   "source": [
    "Did the team answer the question correctly?"
   ]
  },
  {
   "cell_type": "code",
   "execution_count": null,
   "metadata": {},
   "outputs": [],
   "source": [
    "# .addpts(number)\n",
    ".steal()\n",
    "\n",
    "Philly_Gurlz.get_score()\n",
    ".get_score()\n",
    ".get_score()"
   ]
  },
  {
   "cell_type": "markdown",
   "metadata": {},
   "source": [
    "### Turn 5\n",
    "Pick a question number:\n",
    "- 0\n",
    "- 1\n",
    "- 2\n",
    "- 3\n",
    "- 4\n",
    "- 5"
   ]
  },
  {
   "cell_type": "code",
   "execution_count": 12,
   "metadata": {
    "ExecuteTime": {
     "end_time": "2020-04-26T19:09:25.869334Z",
     "start_time": "2020-04-26T19:07:42.074847Z"
    }
   },
   "outputs": [
    {
     "name": "stdout",
     "output_type": "stream",
     "text": [
      "['Looter']\n",
      "\n",
      "['Looter', 'Drawer']\n",
      "\n",
      "['Looter', 'Drawer', 'Desserts']\n",
      "\n",
      "['Looter', 'Drawer', 'Desserts', 'Lamina']\n",
      " \n",
      "DONE\n"
     ]
    }
   ],
   "source": [
    "r1_grid.start_question(3)"
   ]
  },
  {
   "cell_type": "code",
   "execution_count": null,
   "metadata": {
    "ExecuteTime": {
     "end_time": "2020-04-25T22:29:12.606232Z",
     "start_time": "2020-04-25T22:29:12.583857Z"
    }
   },
   "outputs": [],
   "source": [
    "r1_grid.questions[3].hints"
   ]
  },
  {
   "cell_type": "code",
   "execution_count": 13,
   "metadata": {
    "ExecuteTime": {
     "end_time": "2020-04-26T19:10:21.859367Z",
     "start_time": "2020-04-26T19:10:21.841510Z"
    }
   },
   "outputs": [
    {
     "data": {
      "text/plain": [
       "'Words that when spelled backwards, spell another word'"
      ]
     },
     "execution_count": 13,
     "metadata": {},
     "output_type": "execute_result"
    }
   ],
   "source": [
    "r1_grid.questions[3].answer"
   ]
  },
  {
   "cell_type": "markdown",
   "metadata": {},
   "source": [
    "Did the team answer the question correctly?"
   ]
  },
  {
   "cell_type": "code",
   "execution_count": null,
   "metadata": {},
   "outputs": [],
   "source": [
    "# .addpts(number)\n",
    ".steal()\n",
    "\n",
    "Philly_Gurlz.get_score()\n",
    ".get_score()\n",
    ".get_score()"
   ]
  },
  {
   "cell_type": "markdown",
   "metadata": {},
   "source": [
    "### Turn 6\n",
    "Pick a question number:\n",
    "- 0\n",
    "- 1\n",
    "- 2\n",
    "- 3\n",
    "- 4\n",
    "- 5"
   ]
  },
  {
   "cell_type": "code",
   "execution_count": 14,
   "metadata": {
    "ExecuteTime": {
     "end_time": "2020-04-26T19:12:38.110622Z",
     "start_time": "2020-04-26T19:11:19.183503Z"
    }
   },
   "outputs": [
    {
     "name": "stdout",
     "output_type": "stream",
     "text": [
      "['Snail']\n",
      "\n",
      "['Snail', 'Crab']\n",
      "\n",
      "['Snail', 'Crab', 'Squirrel']\n",
      "\n",
      "['Snail', 'Crab', 'Squirrel', 'Sponge']\n",
      " \n",
      "DONE\n"
     ]
    }
   ],
   "source": [
    "r1_grid.start_question(1)"
   ]
  },
  {
   "cell_type": "code",
   "execution_count": null,
   "metadata": {
    "ExecuteTime": {
     "end_time": "2020-04-25T01:03:43.232792Z",
     "start_time": "2020-04-25T01:03:43.215747Z"
    }
   },
   "outputs": [],
   "source": [
    "r1_grid.questions[].hints"
   ]
  },
  {
   "cell_type": "code",
   "execution_count": 15,
   "metadata": {
    "ExecuteTime": {
     "end_time": "2020-04-26T19:12:40.395319Z",
     "start_time": "2020-04-26T19:12:40.375126Z"
    }
   },
   "outputs": [
    {
     "data": {
      "text/plain": [
       "'Creatures found in Spongebob'"
      ]
     },
     "execution_count": 15,
     "metadata": {},
     "output_type": "execute_result"
    }
   ],
   "source": [
    "r1_grid.questions[1].answer"
   ]
  },
  {
   "cell_type": "markdown",
   "metadata": {},
   "source": [
    "Did the team answer the question correctly?"
   ]
  },
  {
   "cell_type": "code",
   "execution_count": 16,
   "metadata": {
    "ExecuteTime": {
     "end_time": "2020-04-26T19:12:58.080752Z",
     "start_time": "2020-04-26T19:12:58.071189Z"
    }
   },
   "outputs": [],
   "source": [
    "Peter.steal()"
   ]
  },
  {
   "cell_type": "code",
   "execution_count": 17,
   "metadata": {
    "ExecuteTime": {
     "end_time": "2020-04-26T19:13:01.678013Z",
     "start_time": "2020-04-26T19:13:01.655794Z"
    }
   },
   "outputs": [
    {
     "data": {
      "text/plain": [
       "1"
      ]
     },
     "execution_count": 17,
     "metadata": {},
     "output_type": "execute_result"
    }
   ],
   "source": [
    "Peter.score"
   ]
  },
  {
   "cell_type": "code",
   "execution_count": 18,
   "metadata": {
    "ExecuteTime": {
     "end_time": "2020-04-26T19:13:08.513514Z",
     "start_time": "2020-04-26T19:13:08.505696Z"
    }
   },
   "outputs": [
    {
     "data": {
      "text/plain": [
       "0"
      ]
     },
     "execution_count": 18,
     "metadata": {},
     "output_type": "execute_result"
    }
   ],
   "source": [
    "Fausto.score"
   ]
  },
  {
   "cell_type": "code",
   "execution_count": null,
   "metadata": {
    "ExecuteTime": {
     "end_time": "2020-04-25T22:32:28.884879Z",
     "start_time": "2020-04-25T22:32:28.865975Z"
    }
   },
   "outputs": [],
   "source": [
    "Philly_Gurlz.get_score()"
   ]
  },
  {
   "cell_type": "code",
   "execution_count": null,
   "metadata": {
    "ExecuteTime": {
     "end_time": "2020-04-25T22:32:35.455629Z",
     "start_time": "2020-04-25T22:32:35.444514Z"
    }
   },
   "outputs": [],
   "source": [
    "Attic_Rats.score"
   ]
  },
  {
   "cell_type": "code",
   "execution_count": null,
   "metadata": {
    "ExecuteTime": {
     "end_time": "2020-04-25T22:32:42.430557Z",
     "start_time": "2020-04-25T22:32:42.377938Z"
    }
   },
   "outputs": [],
   "source": [
    "Nasty_Hoes.score"
   ]
  },
  {
   "cell_type": "markdown",
   "metadata": {},
   "source": [
    "---\n",
    "## Round 2: What's the Fourth?\n",
    "At this round, there are six questions.\n",
    "\n",
    "For each question, you can have one to three hints where the order of the hints matter.\n",
    "\n",
    "In other words, the hints are shown in a sequence that matters.\n",
    "\n",
    "You have two minutes to tell Raffy what the fourth item in the sequence is.\n",
    "\n",
    "At the start of each question, Raffy will only show you _one_ hint.\n",
    "\n",
    "For example:\n",
    "\n",
    "If you get the connection after only looking at the first hint, you get __5 points__."
   ]
  },
  {
   "cell_type": "code",
   "execution_count": 19,
   "metadata": {
    "ExecuteTime": {
     "end_time": "2020-04-26T19:13:39.489446Z",
     "start_time": "2020-04-26T19:13:39.456410Z"
    },
    "scrolled": true
   },
   "outputs": [
    {
     "data": {
      "text/plain": [
       "['Elementary']"
      ]
     },
     "execution_count": 19,
     "metadata": {},
     "output_type": "execute_result"
    }
   ],
   "source": [
    "back.example_r2_grid[0:1]"
   ]
  },
  {
   "cell_type": "markdown",
   "metadata": {},
   "source": [
    "If you get the connection after only looking at the second hint, you get __3 points__."
   ]
  },
  {
   "cell_type": "code",
   "execution_count": 20,
   "metadata": {
    "ExecuteTime": {
     "end_time": "2020-04-26T19:13:43.309144Z",
     "start_time": "2020-04-26T19:13:43.297762Z"
    }
   },
   "outputs": [
    {
     "data": {
      "text/plain": [
       "['Elementary', 'Middle']"
      ]
     },
     "execution_count": 20,
     "metadata": {},
     "output_type": "execute_result"
    }
   ],
   "source": [
    "back.example_r2_grid[0:2]"
   ]
  },
  {
   "cell_type": "markdown",
   "metadata": {},
   "source": [
    "If you get the connection after looking at the third hint, you get __2 points__."
   ]
  },
  {
   "cell_type": "code",
   "execution_count": 21,
   "metadata": {
    "ExecuteTime": {
     "end_time": "2020-04-26T19:13:46.546320Z",
     "start_time": "2020-04-26T19:13:46.527993Z"
    }
   },
   "outputs": [
    {
     "data": {
      "text/plain": [
       "['Elementary', 'Middle', 'High']"
      ]
     },
     "execution_count": 21,
     "metadata": {},
     "output_type": "execute_result"
    }
   ],
   "source": [
    "back.example_r2_grid[0:3]"
   ]
  },
  {
   "cell_type": "code",
   "execution_count": 22,
   "metadata": {
    "ExecuteTime": {
     "end_time": "2020-04-26T19:13:55.091429Z",
     "start_time": "2020-04-26T19:13:55.069893Z"
    }
   },
   "outputs": [
    {
     "data": {
      "text/plain": [
       "'College'"
      ]
     },
     "execution_count": 22,
     "metadata": {},
     "output_type": "execute_result"
    }
   ],
   "source": [
    "back.example_r2_grid[3]"
   ]
  },
  {
   "cell_type": "markdown",
   "metadata": {},
   "source": [
    "If you get the connection wrong or fail to answer within the time limit, then all remaining hint will be shown to the opposing team and they have a chance to answer for __1 point__."
   ]
  },
  {
   "cell_type": "markdown",
   "metadata": {},
   "source": [
    "### Turn 1: Team Ahead Picks to Go First or Second\n",
    "Pick a question number:\n",
    "- 0\n",
    "- 1\n",
    "- 2\n",
    "- 3\n",
    "- 4\n",
    "- 5"
   ]
  },
  {
   "cell_type": "code",
   "execution_count": 23,
   "metadata": {
    "ExecuteTime": {
     "end_time": "2020-04-26T19:16:06.061441Z",
     "start_time": "2020-04-26T19:15:07.470933Z"
    }
   },
   "outputs": [
    {
     "name": "stdout",
     "output_type": "stream",
     "text": [
      "['23']\n",
      "\n",
      "['23', '57']\n",
      "\n",
      "['23', '57', '1113']\n",
      " \n",
      "DONE\n"
     ]
    }
   ],
   "source": [
    "r2_grid = back.R2_Grid(back.r2qs)\n",
    "r2_grid.start_question(0)"
   ]
  },
  {
   "cell_type": "code",
   "execution_count": null,
   "metadata": {
    "ExecuteTime": {
     "end_time": "2020-04-25T22:51:43.760725Z",
     "start_time": "2020-04-25T22:51:43.741322Z"
    }
   },
   "outputs": [],
   "source": [
    "r2_grid.questions[0].hints"
   ]
  },
  {
   "cell_type": "code",
   "execution_count": 24,
   "metadata": {
    "ExecuteTime": {
     "end_time": "2020-04-26T19:16:56.039863Z",
     "start_time": "2020-04-26T19:16:56.014223Z"
    }
   },
   "outputs": [
    {
     "data": {
      "text/plain": [
       "'1719'"
      ]
     },
     "execution_count": 24,
     "metadata": {},
     "output_type": "execute_result"
    }
   ],
   "source": [
    "r2_grid.questions[0].h4"
   ]
  },
  {
   "cell_type": "code",
   "execution_count": 25,
   "metadata": {
    "ExecuteTime": {
     "end_time": "2020-04-26T19:18:12.203544Z",
     "start_time": "2020-04-26T19:18:12.189847Z"
    }
   },
   "outputs": [
    {
     "data": {
      "text/plain": [
       "'Pairs of prime numbers'"
      ]
     },
     "execution_count": 25,
     "metadata": {},
     "output_type": "execute_result"
    }
   ],
   "source": [
    "r2_grid.questions[0].answer"
   ]
  },
  {
   "cell_type": "code",
   "execution_count": null,
   "metadata": {
    "ExecuteTime": {
     "end_time": "2020-04-25T22:52:13.370172Z",
     "start_time": "2020-04-25T22:52:13.366316Z"
    }
   },
   "outputs": [],
   "source": [
    "# .addpts(number)\n",
    "Attic_Rats.steal()\n",
    "\n",
    "# Philly_Gurlz.get_score()\n",
    "# .get_score()\n",
    "# .get_score()"
   ]
  },
  {
   "cell_type": "markdown",
   "metadata": {},
   "source": [
    "### Turn 2\n",
    "Pick a question number:\n",
    "- 0\n",
    "- 1\n",
    "- 2\n",
    "- 3\n",
    "- 4\n",
    "- 5"
   ]
  },
  {
   "cell_type": "code",
   "execution_count": 26,
   "metadata": {
    "ExecuteTime": {
     "end_time": "2020-04-26T19:20:57.503677Z",
     "start_time": "2020-04-26T19:18:59.405908Z"
    }
   },
   "outputs": [
    {
     "name": "stdout",
     "output_type": "stream",
     "text": [
      "['S = 1/2']\n",
      "\n",
      "['S = 1/2', 'M = 1000']\n",
      "\n",
      "['S = 1/2', 'M = 1000', 'L = 50']\n",
      " \n",
      "DONE\n"
     ]
    }
   ],
   "source": [
    "r2_grid.start_question(1)"
   ]
  },
  {
   "cell_type": "code",
   "execution_count": null,
   "metadata": {
    "ExecuteTime": {
     "end_time": "2020-04-25T22:54:38.862673Z",
     "start_time": "2020-04-25T22:54:38.844573Z"
    }
   },
   "outputs": [],
   "source": [
    "r2_grid.questions[1].hints"
   ]
  },
  {
   "cell_type": "code",
   "execution_count": 29,
   "metadata": {
    "ExecuteTime": {
     "end_time": "2020-04-26T19:22:31.531512Z",
     "start_time": "2020-04-26T19:22:31.514407Z"
    }
   },
   "outputs": [
    {
     "data": {
      "text/plain": [
       "'XL = 40'"
      ]
     },
     "execution_count": 29,
     "metadata": {},
     "output_type": "execute_result"
    }
   ],
   "source": [
    "r2_grid.questions[1].h4"
   ]
  },
  {
   "cell_type": "code",
   "execution_count": 30,
   "metadata": {
    "ExecuteTime": {
     "end_time": "2020-04-26T19:23:30.381757Z",
     "start_time": "2020-04-26T19:23:30.364627Z"
    }
   },
   "outputs": [
    {
     "data": {
      "text/plain": [
       "'Shirt sizes as Roman numerals'"
      ]
     },
     "execution_count": 30,
     "metadata": {},
     "output_type": "execute_result"
    }
   ],
   "source": [
    "r2_grid.questions[1].answer"
   ]
  },
  {
   "cell_type": "code",
   "execution_count": null,
   "metadata": {},
   "outputs": [],
   "source": [
    "# .addpts(number)\n",
    ".steal()\n",
    "\n",
    "Philly_Gurlz.get_score()\n",
    ".get_score()\n",
    ".get_score()"
   ]
  },
  {
   "cell_type": "markdown",
   "metadata": {},
   "source": [
    "### Turn 3\n",
    "Pick a question number:\n",
    "- 0\n",
    "- 1\n",
    "- 2\n",
    "- 3\n",
    "- 4\n",
    "- 5"
   ]
  },
  {
   "cell_type": "code",
   "execution_count": 31,
   "metadata": {
    "ExecuteTime": {
     "end_time": "2020-04-26T19:25:49.849593Z",
     "start_time": "2020-04-26T19:24:17.329684Z"
    }
   },
   "outputs": [
    {
     "name": "stdout",
     "output_type": "stream",
     "text": [
      "['Rooster']\n",
      "\n",
      "['Rooster', 'Cat']\n",
      "\n",
      "['Rooster', 'Cat', 'Dog']\n",
      " \n",
      "DONE\n"
     ]
    }
   ],
   "source": [
    "r2_grid.start_question(4)"
   ]
  },
  {
   "cell_type": "code",
   "execution_count": null,
   "metadata": {
    "ExecuteTime": {
     "end_time": "2020-04-25T01:04:14.475489Z",
     "start_time": "2020-04-25T01:04:14.465016Z"
    }
   },
   "outputs": [],
   "source": [
    "r2_grid.questions[3].hints"
   ]
  },
  {
   "cell_type": "code",
   "execution_count": 32,
   "metadata": {
    "ExecuteTime": {
     "end_time": "2020-04-26T19:26:12.130883Z",
     "start_time": "2020-04-26T19:26:12.112362Z"
    }
   },
   "outputs": [
    {
     "data": {
      "text/plain": [
       "'Donkey'"
      ]
     },
     "execution_count": 32,
     "metadata": {},
     "output_type": "execute_result"
    }
   ],
   "source": [
    "r2_grid.questions[4].h4"
   ]
  },
  {
   "cell_type": "code",
   "execution_count": 33,
   "metadata": {
    "ExecuteTime": {
     "end_time": "2020-04-26T19:26:18.911481Z",
     "start_time": "2020-04-26T19:26:18.896047Z"
    }
   },
   "outputs": [
    {
     "data": {
      "text/plain": [
       "\"Brothers Grimm's Town Musicians of Bremen from top to bottom\""
      ]
     },
     "execution_count": 33,
     "metadata": {},
     "output_type": "execute_result"
    }
   ],
   "source": [
    "r2_grid.questions[4].answer"
   ]
  },
  {
   "cell_type": "code",
   "execution_count": null,
   "metadata": {
    "ExecuteTime": {
     "end_time": "2020-04-25T23:04:06.978153Z",
     "start_time": "2020-04-25T23:04:06.966776Z"
    }
   },
   "outputs": [],
   "source": [
    "Attic_Rats.add_pts(2)\n",
    "# .steal()\n",
    "\n",
    "# Philly_Gurlz.get_score()\n",
    "# .get_score()\n",
    "# .get_score()"
   ]
  },
  {
   "cell_type": "code",
   "execution_count": null,
   "metadata": {
    "ExecuteTime": {
     "end_time": "2020-04-25T22:59:18.024301Z",
     "start_time": "2020-04-25T22:59:17.989592Z"
    }
   },
   "outputs": [],
   "source": [
    "Attic_Rats.score"
   ]
  },
  {
   "cell_type": "markdown",
   "metadata": {},
   "source": [
    "### Turn 4\n",
    "Pick a question number:\n",
    "- 0\n",
    "- 1\n",
    "- 2\n",
    "- 3\n",
    "- 4\n",
    "- 5"
   ]
  },
  {
   "cell_type": "code",
   "execution_count": 34,
   "metadata": {
    "ExecuteTime": {
     "end_time": "2020-04-26T19:29:49.114390Z",
     "start_time": "2020-04-26T19:27:48.670061Z"
    }
   },
   "outputs": [
    {
     "name": "stdout",
     "output_type": "stream",
     "text": [
      "['5 P in a N']\n",
      "\n",
      "['5 P in a N', '2 N in a D']\n",
      "\n",
      "['5 P in a N', '2 N in a D', '2.5 D in a Q']\n",
      " \n",
      "Out of time\n",
      "DONE\n"
     ]
    }
   ],
   "source": [
    "r2_grid.start_question(2)"
   ]
  },
  {
   "cell_type": "code",
   "execution_count": null,
   "metadata": {
    "ExecuteTime": {
     "end_time": "2020-04-25T01:04:22.189239Z",
     "start_time": "2020-04-25T01:04:22.181147Z"
    }
   },
   "outputs": [],
   "source": [
    "r2_grid.questions[2].hints"
   ]
  },
  {
   "cell_type": "code",
   "execution_count": 35,
   "metadata": {
    "ExecuteTime": {
     "end_time": "2020-04-26T19:29:59.881445Z",
     "start_time": "2020-04-26T19:29:59.860291Z"
    }
   },
   "outputs": [
    {
     "data": {
      "text/plain": [
       "'4 Q in a D'"
      ]
     },
     "execution_count": 35,
     "metadata": {},
     "output_type": "execute_result"
    }
   ],
   "source": [
    "r2_grid.questions[2].h4"
   ]
  },
  {
   "cell_type": "code",
   "execution_count": 36,
   "metadata": {
    "ExecuteTime": {
     "end_time": "2020-04-26T19:30:13.039377Z",
     "start_time": "2020-04-26T19:30:13.032733Z"
    }
   },
   "outputs": [
    {
     "data": {
      "text/plain": [
       "'US Coinage'"
      ]
     },
     "execution_count": 36,
     "metadata": {},
     "output_type": "execute_result"
    }
   ],
   "source": [
    "r2_grid.questions[2].answer"
   ]
  },
  {
   "cell_type": "code",
   "execution_count": 37,
   "metadata": {
    "ExecuteTime": {
     "end_time": "2020-04-26T19:30:24.970393Z",
     "start_time": "2020-04-26T19:30:24.963286Z"
    }
   },
   "outputs": [],
   "source": [
    "Peter.steal()"
   ]
  },
  {
   "cell_type": "code",
   "execution_count": 38,
   "metadata": {
    "ExecuteTime": {
     "end_time": "2020-04-26T19:30:28.035812Z",
     "start_time": "2020-04-26T19:30:28.021823Z"
    }
   },
   "outputs": [
    {
     "data": {
      "text/plain": [
       "2"
      ]
     },
     "execution_count": 38,
     "metadata": {},
     "output_type": "execute_result"
    }
   ],
   "source": [
    "Peter.score"
   ]
  },
  {
   "cell_type": "markdown",
   "metadata": {},
   "source": [
    "### Turn 5\n",
    "Pick a question number:\n",
    "- 0\n",
    "- 1\n",
    "- 2\n",
    "- 3\n",
    "- 4\n",
    "- 5"
   ]
  },
  {
   "cell_type": "code",
   "execution_count": 39,
   "metadata": {
    "ExecuteTime": {
     "end_time": "2020-04-26T19:31:58.521464Z",
     "start_time": "2020-04-26T19:30:48.874100Z"
    }
   },
   "outputs": [
    {
     "name": "stdout",
     "output_type": "stream",
     "text": [
      "['Garnet']\n",
      "\n",
      "['Garnet', 'Amethyst']\n",
      "\n",
      "['Garnet', 'Amethyst', 'Aquamarine']\n",
      " \n",
      "DONE\n"
     ]
    }
   ],
   "source": [
    "r2_grid.start_question(3)"
   ]
  },
  {
   "cell_type": "code",
   "execution_count": null,
   "metadata": {
    "ExecuteTime": {
     "end_time": "2020-04-25T01:04:29.038640Z",
     "start_time": "2020-04-25T01:04:29.028218Z"
    }
   },
   "outputs": [],
   "source": [
    "r2_grid.questions[3].hints"
   ]
  },
  {
   "cell_type": "code",
   "execution_count": 40,
   "metadata": {
    "ExecuteTime": {
     "end_time": "2020-04-26T19:33:10.053009Z",
     "start_time": "2020-04-26T19:33:10.039916Z"
    }
   },
   "outputs": [
    {
     "data": {
      "text/plain": [
       "'Diamond'"
      ]
     },
     "execution_count": 40,
     "metadata": {},
     "output_type": "execute_result"
    }
   ],
   "source": [
    "r2_grid.questions[3].h4"
   ]
  },
  {
   "cell_type": "code",
   "execution_count": 41,
   "metadata": {
    "ExecuteTime": {
     "end_time": "2020-04-26T19:33:23.463943Z",
     "start_time": "2020-04-26T19:33:23.453234Z"
    }
   },
   "outputs": [
    {
     "data": {
      "text/plain": [
       "'Birthstones (Jan, Feb, Mar, Apr)'"
      ]
     },
     "execution_count": 41,
     "metadata": {},
     "output_type": "execute_result"
    }
   ],
   "source": [
    "r2_grid.questions[3].answer"
   ]
  },
  {
   "cell_type": "code",
   "execution_count": null,
   "metadata": {
    "ExecuteTime": {
     "end_time": "2020-04-25T23:04:06.978153Z",
     "start_time": "2020-04-25T23:04:06.966776Z"
    }
   },
   "outputs": [],
   "source": [
    "# .addpts(number)\n",
    "Attic_Rats.steal()\n",
    "\n",
    "# Philly_Gurlz.get_score()\n",
    "# .get_score()\n",
    "# .get_score()"
   ]
  },
  {
   "cell_type": "markdown",
   "metadata": {},
   "source": [
    "### Turn 6\n",
    "Pick a question number:\n",
    "- 0\n",
    "- 1\n",
    "- 2\n",
    "- 3\n",
    "- 4\n",
    "- 5"
   ]
  },
  {
   "cell_type": "code",
   "execution_count": 42,
   "metadata": {
    "ExecuteTime": {
     "end_time": "2020-04-26T19:36:02.677989Z",
     "start_time": "2020-04-26T19:35:48.365541Z"
    }
   },
   "outputs": [
    {
     "name": "stdout",
     "output_type": "stream",
     "text": [
      "['Anger']\n",
      "\n",
      "['Anger', 'Depression']\n",
      "\n",
      "['Anger', 'Depression', 'Bargaining']\n",
      " \n",
      "DONE\n"
     ]
    }
   ],
   "source": [
    "r2_grid.start_question(5)"
   ]
  },
  {
   "cell_type": "code",
   "execution_count": null,
   "metadata": {
    "ExecuteTime": {
     "end_time": "2020-04-25T23:07:34.205625Z",
     "start_time": "2020-04-25T23:07:34.187347Z"
    }
   },
   "outputs": [],
   "source": [
    "r2_grid.questions[5].hints"
   ]
  },
  {
   "cell_type": "code",
   "execution_count": 43,
   "metadata": {
    "ExecuteTime": {
     "end_time": "2020-04-26T19:36:04.073923Z",
     "start_time": "2020-04-26T19:36:04.062889Z"
    }
   },
   "outputs": [
    {
     "data": {
      "text/plain": [
       "'Acceptance'"
      ]
     },
     "execution_count": 43,
     "metadata": {},
     "output_type": "execute_result"
    }
   ],
   "source": [
    "r2_grid.questions[5].h4"
   ]
  },
  {
   "cell_type": "code",
   "execution_count": 44,
   "metadata": {
    "ExecuteTime": {
     "end_time": "2020-04-26T19:36:07.097542Z",
     "start_time": "2020-04-26T19:36:07.083370Z"
    }
   },
   "outputs": [
    {
     "data": {
      "text/plain": [
       "'Kubler-Ross grief cycle'"
      ]
     },
     "execution_count": 44,
     "metadata": {},
     "output_type": "execute_result"
    }
   ],
   "source": [
    "r2_grid.questions[5].answer"
   ]
  },
  {
   "cell_type": "code",
   "execution_count": 45,
   "metadata": {
    "ExecuteTime": {
     "end_time": "2020-04-26T19:36:23.215738Z",
     "start_time": "2020-04-26T19:36:23.206711Z"
    }
   },
   "outputs": [],
   "source": [
    "Fausto.add_pts(2)"
   ]
  },
  {
   "cell_type": "code",
   "execution_count": 46,
   "metadata": {
    "ExecuteTime": {
     "end_time": "2020-04-26T19:36:26.803334Z",
     "start_time": "2020-04-26T19:36:26.789683Z"
    }
   },
   "outputs": [
    {
     "data": {
      "text/plain": [
       "2"
      ]
     },
     "execution_count": 46,
     "metadata": {},
     "output_type": "execute_result"
    }
   ],
   "source": [
    "Fausto.score"
   ]
  },
  {
   "cell_type": "code",
   "execution_count": 47,
   "metadata": {
    "ExecuteTime": {
     "end_time": "2020-04-26T19:36:30.736217Z",
     "start_time": "2020-04-26T19:36:30.716860Z"
    }
   },
   "outputs": [
    {
     "data": {
      "text/plain": [
       "2"
      ]
     },
     "execution_count": 47,
     "metadata": {},
     "output_type": "execute_result"
    }
   ],
   "source": [
    "Peter.score"
   ]
  },
  {
   "cell_type": "code",
   "execution_count": null,
   "metadata": {
    "ExecuteTime": {
     "end_time": "2020-04-25T23:04:06.978153Z",
     "start_time": "2020-04-25T23:04:06.966776Z"
    }
   },
   "outputs": [],
   "source": [
    "# .addpts(number)\n",
    ".steal()\n",
    "\n",
    "Philly_Gurlz.get_score()\n",
    ".get_score()\n",
    ".get_score()"
   ]
  },
  {
   "cell_type": "code",
   "execution_count": null,
   "metadata": {
    "ExecuteTime": {
     "end_time": "2020-04-25T23:10:42.157759Z",
     "start_time": "2020-04-25T23:10:42.139574Z"
    }
   },
   "outputs": [],
   "source": [
    "Philly_Gurlz.score"
   ]
  },
  {
   "cell_type": "code",
   "execution_count": null,
   "metadata": {
    "ExecuteTime": {
     "end_time": "2020-04-25T23:10:53.057977Z",
     "start_time": "2020-04-25T23:10:53.045976Z"
    }
   },
   "outputs": [],
   "source": [
    "Attic_Rats.score"
   ]
  },
  {
   "cell_type": "code",
   "execution_count": null,
   "metadata": {
    "ExecuteTime": {
     "end_time": "2020-04-25T23:11:01.958850Z",
     "start_time": "2020-04-25T23:11:01.941020Z"
    }
   },
   "outputs": [],
   "source": [
    "Nasty_Hoes.score"
   ]
  },
  {
   "cell_type": "code",
   "execution_count": null,
   "metadata": {
    "ExecuteTime": {
     "end_time": "2020-04-26T00:01:53.022409Z",
     "start_time": "2020-04-26T00:01:53.009371Z"
    }
   },
   "outputs": [],
   "source": [
    "# Round 3\n",
    "Philly_Gurlz.add_pts(4) \n",
    "Attic_Rats.add_pts(4)\n",
    "Nasty_Hoes.add_pts(4)"
   ]
  },
  {
   "cell_type": "code",
   "execution_count": null,
   "metadata": {
    "ExecuteTime": {
     "end_time": "2020-04-26T00:04:05.897185Z",
     "start_time": "2020-04-26T00:04:05.881061Z"
    }
   },
   "outputs": [],
   "source": [
    "Philly_Gurlz.score"
   ]
  },
  {
   "cell_type": "code",
   "execution_count": null,
   "metadata": {
    "ExecuteTime": {
     "end_time": "2020-04-26T00:04:17.835662Z",
     "start_time": "2020-04-26T00:04:17.822259Z"
    }
   },
   "outputs": [],
   "source": [
    "Attic_Rats.score"
   ]
  },
  {
   "cell_type": "code",
   "execution_count": null,
   "metadata": {
    "ExecuteTime": {
     "end_time": "2020-04-26T00:04:30.278819Z",
     "start_time": "2020-04-26T00:04:30.265265Z"
    }
   },
   "outputs": [],
   "source": [
    "Nasty_Hoes.score"
   ]
  },
  {
   "cell_type": "code",
   "execution_count": null,
   "metadata": {
    "ExecuteTime": {
     "end_time": "2020-04-26T00:23:00.997558Z",
     "start_time": "2020-04-26T00:23:00.986174Z"
    }
   },
   "outputs": [],
   "source": [
    "Nasty_Hoes.add_pts(4)"
   ]
  },
  {
   "cell_type": "code",
   "execution_count": null,
   "metadata": {
    "ExecuteTime": {
     "end_time": "2020-04-26T00:23:13.067430Z",
     "start_time": "2020-04-26T00:23:13.057675Z"
    }
   },
   "outputs": [],
   "source": [
    "Attic_Rats.add_pts(4)"
   ]
  },
  {
   "cell_type": "code",
   "execution_count": null,
   "metadata": {
    "ExecuteTime": {
     "end_time": "2020-04-26T00:23:26.500772Z",
     "start_time": "2020-04-26T00:23:26.494085Z"
    }
   },
   "outputs": [],
   "source": [
    "Philly_Gurlz.add_pts(8)"
   ]
  },
  {
   "cell_type": "code",
   "execution_count": null,
   "metadata": {
    "ExecuteTime": {
     "end_time": "2020-04-26T00:23:37.059948Z",
     "start_time": "2020-04-26T00:23:37.048023Z"
    }
   },
   "outputs": [],
   "source": [
    "Philly_Gurlz.score"
   ]
  },
  {
   "cell_type": "code",
   "execution_count": null,
   "metadata": {
    "ExecuteTime": {
     "end_time": "2020-04-26T00:23:43.739005Z",
     "start_time": "2020-04-26T00:23:43.731856Z"
    }
   },
   "outputs": [],
   "source": [
    "Attic_Rats.score"
   ]
  },
  {
   "cell_type": "code",
   "execution_count": null,
   "metadata": {
    "ExecuteTime": {
     "end_time": "2020-04-26T00:23:49.741982Z",
     "start_time": "2020-04-26T00:23:49.731566Z"
    }
   },
   "outputs": [],
   "source": [
    "Nasty_Hoes.score"
   ]
  },
  {
   "cell_type": "code",
   "execution_count": null,
   "metadata": {},
   "outputs": [],
   "source": []
  },
  {
   "cell_type": "code",
   "execution_count": 48,
   "metadata": {
    "ExecuteTime": {
     "end_time": "2020-04-26T19:55:27.395416Z",
     "start_time": "2020-04-26T19:55:27.386554Z"
    }
   },
   "outputs": [],
   "source": [
    "Fausto.add_pts(1)"
   ]
  },
  {
   "cell_type": "code",
   "execution_count": 7,
   "metadata": {
    "ExecuteTime": {
     "end_time": "2020-04-26T21:50:36.352103Z",
     "start_time": "2020-04-26T21:50:36.334331Z"
    }
   },
   "outputs": [
    {
     "data": {
      "text/plain": [
       "2"
      ]
     },
     "execution_count": 7,
     "metadata": {},
     "output_type": "execute_result"
    }
   ],
   "source": [
    "Peter.score"
   ]
  },
  {
   "cell_type": "code",
   "execution_count": 8,
   "metadata": {
    "ExecuteTime": {
     "end_time": "2020-04-26T21:50:40.172150Z",
     "start_time": "2020-04-26T21:50:40.161838Z"
    }
   },
   "outputs": [
    {
     "data": {
      "text/plain": [
       "3"
      ]
     },
     "execution_count": 8,
     "metadata": {},
     "output_type": "execute_result"
    }
   ],
   "source": [
    "Fausto.score"
   ]
  },
  {
   "cell_type": "code",
   "execution_count": 9,
   "metadata": {
    "ExecuteTime": {
     "end_time": "2020-04-26T22:02:58.531838Z",
     "start_time": "2020-04-26T22:02:58.517434Z"
    }
   },
   "outputs": [],
   "source": [
    "Fausto.add_pts(3)"
   ]
  },
  {
   "cell_type": "code",
   "execution_count": 10,
   "metadata": {
    "ExecuteTime": {
     "end_time": "2020-04-26T22:03:17.311827Z",
     "start_time": "2020-04-26T22:03:17.301999Z"
    }
   },
   "outputs": [
    {
     "data": {
      "text/plain": [
       "2"
      ]
     },
     "execution_count": 10,
     "metadata": {},
     "output_type": "execute_result"
    }
   ],
   "source": [
    "Peter.score"
   ]
  },
  {
   "cell_type": "code",
   "execution_count": 11,
   "metadata": {
    "ExecuteTime": {
     "end_time": "2020-04-26T22:03:25.609107Z",
     "start_time": "2020-04-26T22:03:25.598386Z"
    }
   },
   "outputs": [
    {
     "data": {
      "text/plain": [
       "6"
      ]
     },
     "execution_count": 11,
     "metadata": {},
     "output_type": "execute_result"
    }
   ],
   "source": [
    "Fausto.score"
   ]
  },
  {
   "cell_type": "code",
   "execution_count": 12,
   "metadata": {
    "ExecuteTime": {
     "end_time": "2020-04-26T22:40:12.408896Z",
     "start_time": "2020-04-26T22:40:12.388933Z"
    }
   },
   "outputs": [],
   "source": [
    "Peter.add_pts(10)"
   ]
  },
  {
   "cell_type": "code",
   "execution_count": 13,
   "metadata": {
    "ExecuteTime": {
     "end_time": "2020-04-26T22:40:19.272493Z",
     "start_time": "2020-04-26T22:40:19.264654Z"
    }
   },
   "outputs": [],
   "source": [
    "Fausto.add_pts(8)"
   ]
  },
  {
   "cell_type": "code",
   "execution_count": 14,
   "metadata": {
    "ExecuteTime": {
     "end_time": "2020-04-26T22:40:23.374252Z",
     "start_time": "2020-04-26T22:40:23.315550Z"
    }
   },
   "outputs": [
    {
     "data": {
      "text/plain": [
       "14"
      ]
     },
     "execution_count": 14,
     "metadata": {},
     "output_type": "execute_result"
    }
   ],
   "source": [
    "Fausto.score"
   ]
  },
  {
   "cell_type": "code",
   "execution_count": 15,
   "metadata": {
    "ExecuteTime": {
     "end_time": "2020-04-26T22:40:26.893437Z",
     "start_time": "2020-04-26T22:40:26.883052Z"
    }
   },
   "outputs": [
    {
     "data": {
      "text/plain": [
       "12"
      ]
     },
     "execution_count": 15,
     "metadata": {},
     "output_type": "execute_result"
    }
   ],
   "source": [
    "Peter.score"
   ]
  },
  {
   "cell_type": "code",
   "execution_count": 16,
   "metadata": {
    "ExecuteTime": {
     "end_time": "2020-04-26T23:00:09.250051Z",
     "start_time": "2020-04-26T23:00:09.241255Z"
    }
   },
   "outputs": [],
   "source": [
    "Fausto.add_pts(2)"
   ]
  },
  {
   "cell_type": "code",
   "execution_count": 17,
   "metadata": {
    "ExecuteTime": {
     "end_time": "2020-04-26T23:00:15.327828Z",
     "start_time": "2020-04-26T23:00:15.313998Z"
    }
   },
   "outputs": [],
   "source": [
    "Peter.add_pts(2)"
   ]
  },
  {
   "cell_type": "code",
   "execution_count": 18,
   "metadata": {
    "ExecuteTime": {
     "end_time": "2020-04-26T23:00:20.790571Z",
     "start_time": "2020-04-26T23:00:20.782375Z"
    }
   },
   "outputs": [
    {
     "data": {
      "text/plain": [
       "16"
      ]
     },
     "execution_count": 18,
     "metadata": {},
     "output_type": "execute_result"
    }
   ],
   "source": [
    "Fausto.score"
   ]
  },
  {
   "cell_type": "code",
   "execution_count": 19,
   "metadata": {
    "ExecuteTime": {
     "end_time": "2020-04-26T23:00:29.233060Z",
     "start_time": "2020-04-26T23:00:29.208557Z"
    }
   },
   "outputs": [
    {
     "data": {
      "text/plain": [
       "14"
      ]
     },
     "execution_count": 19,
     "metadata": {},
     "output_type": "execute_result"
    }
   ],
   "source": [
    "Peter.score"
   ]
  }
 ],
 "metadata": {
  "kernelspec": {
   "display_name": "Python 3",
   "language": "python",
   "name": "python3"
  },
  "language_info": {
   "codemirror_mode": {
    "name": "ipython",
    "version": 3
   },
   "file_extension": ".py",
   "mimetype": "text/x-python",
   "name": "python",
   "nbconvert_exporter": "python",
   "pygments_lexer": "ipython3",
   "version": "3.7.5"
  },
  "toc": {
   "base_numbering": 1,
   "nav_menu": {},
   "number_sections": true,
   "sideBar": true,
   "skip_h1_title": false,
   "title_cell": "Table of Contents",
   "title_sidebar": "Contents",
   "toc_cell": false,
   "toc_position": {},
   "toc_section_display": true,
   "toc_window_display": false
  },
  "varInspector": {
   "cols": {
    "lenName": 16,
    "lenType": 16,
    "lenVar": 40
   },
   "kernels_config": {
    "python": {
     "delete_cmd_postfix": "",
     "delete_cmd_prefix": "del ",
     "library": "var_list.py",
     "varRefreshCmd": "print(var_dic_list())"
    },
    "r": {
     "delete_cmd_postfix": ") ",
     "delete_cmd_prefix": "rm(",
     "library": "var_list.r",
     "varRefreshCmd": "cat(var_dic_list()) "
    }
   },
   "types_to_exclude": [
    "module",
    "function",
    "builtin_function_or_method",
    "instance",
    "_Feature"
   ],
   "window_display": false
  }
 },
 "nbformat": 4,
 "nbformat_minor": 2
}
